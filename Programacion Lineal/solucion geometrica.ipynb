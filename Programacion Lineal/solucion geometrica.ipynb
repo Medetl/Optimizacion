{
 "cells": [
  {
   "cell_type": "markdown",
   "metadata": {},
   "source": [
    "# Programación Lineal\n",
    "\n",
    "# Solución Geométrica"
   ]
  },
  {
   "cell_type": "markdown",
   "metadata": {},
   "source": [
    "## Problema"
   ]
  },
  {
   "cell_type": "markdown",
   "metadata": {},
   "source": [
    "Una fábrica produce dos tipos de recipientes, K y L, para lo cual utiliza dos máquinas, $M_1$ y $M_2$. Para producir un recipiente K, $M_1$ necesita 2 minutos y $M_2$, 4 minutos. De manera semejante, L ocupa 8 minutos a $M_1$ y 4 minutos a $M_2$. La ganancia neta para un recipiente K es de 29 pesos y para uno L es de 45 pesos. Determinar el plan de producción que maximice la ganancia neta."
   ]
  },
  {
   "cell_type": "markdown",
   "metadata": {},
   "source": [
    "De manera formal:\n",
    "\n",
    "#### Variables de decisión:\n",
    "\n",
    "Número de recipientes K, $x_1$ y L, $x_2$.\n",
    "\n",
    "#### Función Objetivo:\n",
    "\n",
    "Maximizar $29x_1 + 45x_2$\n",
    "\n",
    "#### Restricciones:\n",
    "\n",
    "Consideramos la producción por hora:\n",
    "\n",
    "Resultante de la máquina $M_1$: $2x_1 + 8x_2 \\leq 60$\n",
    "\n",
    "Resultante de la máquina $M_2$: $4x_1 + 4x_2 \\leq 60$\n",
    "\n",
    "No negatividad: $x_1 \\geq 0$, $x_2 \\geq 0$"
   ]
  },
  {
   "cell_type": "code",
   "execution_count": null,
   "metadata": {},
   "outputs": [],
   "source": [
    "import matplotlib.pyplot as plt\n",
    "%matplotlib inline"
   ]
  },
  {
   "cell_type": "code",
   "execution_count": null,
   "metadata": {},
   "outputs": [],
   "source": [
    "plt.figure()\n",
    "    \n",
    "# Restricción para M1\n",
    "plt.plot([0, 60.0/2.0], [60.0/8.0, 0], color='orange', alpha=0.25)\n",
    "plt.fill_between([0, 60.0/2.0], [60.0/8.0, 0], color='orange', alpha=0.25, label='resultante de M1')\n",
    "\n",
    "plt.xlabel('recipientes K')\n",
    "plt.ylabel('recipientes L')\n",
    "plt.legend()\n",
    "plt.show()"
   ]
  },
  {
   "cell_type": "code",
   "execution_count": null,
   "metadata": {},
   "outputs": [],
   "source": [
    "plt.figure()\n",
    "    \n",
    "# Restricción para M1\n",
    "plt.plot([0, 60.0/2.0], [60.0/8.0, 0], color='orange', alpha=0.25)\n",
    "plt.fill_between([0, 60.0/2.0], [60.0/8.0, 0], color='orange', alpha=0.25, label='resultante de M1')\n",
    "\n",
    "# Restricción para M2\n",
    "plt.plot([0, 60.0/4.0], [60.0/4.0, 0], color='blue', alpha=0.125)\n",
    "plt.fill_between([0, 60.0/4.0], [60.0/4.0, 0], color='blue', alpha=0.125, label='resultante de M2')\n",
    "\n",
    "plt.xlabel('recipientes K')\n",
    "plt.ylabel('recipientes L')\n",
    "plt.legend()\n",
    "plt.show()"
   ]
  },
  {
   "cell_type": "code",
   "execution_count": null,
   "metadata": {},
   "outputs": [],
   "source": [
    "plt.figure()\n",
    "    \n",
    "# Restricción para M1\n",
    "plt.plot([0, 60.0/2.0], [60.0/8.0, 0], color='orange', alpha=0.25)\n",
    "plt.fill_between([0, 60.0/2.0], [60.0/8.0, 0], color='orange', alpha=0.25, label='resultante de M1')\n",
    "\n",
    "# Restricción para M2\n",
    "plt.plot([0, 60.0/4.0], [60.0/4.0, 0], color='blue', alpha=0.125)\n",
    "plt.fill_between([0, 60.0/4.0], [60.0/4.0, 0], color='blue', alpha=0.125, label='resultante de M2')\n",
    "\n",
    "plt.xlabel('recipientes K')\n",
    "plt.ylabel('recipientes L')\n",
    "\n",
    "plt.scatter([5], [4])  # punto factible\n",
    "\n",
    "plt.xlim(0)\n",
    "plt.ylim(0)\n",
    "\n",
    "plt.legend()\n",
    "plt.show()"
   ]
  },
  {
   "cell_type": "markdown",
   "metadata": {},
   "source": [
    "$z_1 = 29 * 5 + 45 * 4 = 325$"
   ]
  },
  {
   "cell_type": "code",
   "execution_count": null,
   "metadata": {},
   "outputs": [],
   "source": [
    "plt.figure()\n",
    "    \n",
    "# Restricción para M1\n",
    "plt.plot([0, 60.0/2.0], [60.0/8.0, 0], color='orange', alpha=0.25)\n",
    "plt.fill_between([0, 60.0/2.0], [60.0/8.0, 0], color='orange', alpha=0.25, label='resultante de M1')\n",
    "\n",
    "# Restricción para M2\n",
    "plt.plot([0, 60.0/4.0], [60.0/4.0, 0], color='blue', alpha=0.125)\n",
    "plt.fill_between([0, 60.0/4.0], [60.0/4.0, 0], color='blue', alpha=0.125, label='resultante de M2')\n",
    "\n",
    "plt.xlabel('recipientes K')\n",
    "plt.ylabel('recipientes L')\n",
    "\n",
    "plt.scatter([5], [4])  # punto factible\n",
    "plt.plot([0, 325.0/29], [325.0/45, 0], color='black')\n",
    "\n",
    "plt.xlim(0)\n",
    "plt.ylim(0)\n",
    "\n",
    "plt.legend()\n",
    "plt.show()"
   ]
  },
  {
   "cell_type": "code",
   "execution_count": null,
   "metadata": {},
   "outputs": [],
   "source": [
    "plt.figure()\n",
    "    \n",
    "# Restricción para M1\n",
    "plt.plot([0, 60.0/2.0], [60.0/8.0, 0], color='orange', alpha=0.25)\n",
    "plt.fill_between([0, 60.0/2.0], [60.0/8.0, 0], color='orange', alpha=0.25, label='resultante de M1')\n",
    "\n",
    "# Restricción para M2\n",
    "plt.plot([0, 60.0/4.0], [60.0/4.0, 0], color='blue', alpha=0.125)\n",
    "plt.fill_between([0, 60.0/4.0], [60.0/4.0, 0], color='blue', alpha=0.125, label='resultante de M2')\n",
    "\n",
    "plt.xlabel('recipientes K')\n",
    "plt.ylabel('recipientes L')\n",
    "\n",
    "plt.scatter([5], [4])  # punto factible\n",
    "plt.plot([0, 325.0/29], [325.0/45, 0], color='black', linestyle='--')\n",
    "\n",
    "plt.scatter([10], [5], color='red')  # punto factible\n",
    "plt.plot([0, 515.0/29], [515.0/45, 0], color='red', linestyle='-.')\n",
    "\n",
    "\n",
    "plt.xlim(0)\n",
    "plt.ylim(0)\n",
    "\n",
    "plt.legend()\n",
    "plt.show()"
   ]
  },
  {
   "cell_type": "markdown",
   "metadata": {},
   "source": [
    "#### Ejercicio 1\n",
    "\n",
    "Una compañía fabrica dos tipos de motores pequeños con combustible sólido. Con el motor A gana $ \\$  3$ por motor y con el motor B gana $\\$ 4$ por motor. Dispone de 80 horas por semana para producirlos y en los procesos se requieren: 4 h para A y solo 2 h para B. Sin embargo, debido a lo peligroso del material usado, son necesarias 5 h de preparación y limpieza para el motopr B y 2 h para A. El tiempo de preparación total disponible es 120 h por semana. Determinar el número de cada clase de motores a producir que dé como resultado la máxima ganancia.   "
   ]
  },
  {
   "cell_type": "code",
   "execution_count": null,
   "metadata": {},
   "outputs": [],
   "source": []
  }
 ],
 "metadata": {
  "kernelspec": {
   "display_name": "Python 3 (ipykernel)",
   "language": "python",
   "name": "python3"
  },
  "language_info": {
   "codemirror_mode": {
    "name": "ipython",
    "version": 3
   },
   "file_extension": ".py",
   "mimetype": "text/x-python",
   "name": "python",
   "nbconvert_exporter": "python",
   "pygments_lexer": "ipython3",
   "version": "3.7.3"
  },
  "widgets": {
   "state": {
    "a93358b7780047ebb243793ee6ab0d87": {
     "views": [
      {
       "cell_index": 13
      }
     ]
    }
   },
   "version": "1.2.0"
  }
 },
 "nbformat": 4,
 "nbformat_minor": 1
}
