{
 "cells": [
  {
   "cell_type": "code",
   "execution_count": null,
   "id": "8fd04a13",
   "metadata": {},
   "outputs": [],
   "source": [
    "%matplotlib inline"
   ]
  },
  {
   "cell_type": "code",
   "execution_count": null,
   "id": "a3566d9f",
   "metadata": {},
   "outputs": [],
   "source": [
    "import numpy as np\n",
    "import scipy.optimize as opt\n",
    "import matplotlib.pyplot as plt\n",
    "import pylab as pl\n",
    "from mpl_toolkits.mplot3d import Axes3D"
   ]
  },
  {
   "cell_type": "code",
   "execution_count": null,
   "id": "a5d1691b",
   "metadata": {},
   "outputs": [],
   "source": [
    "fig = pl.figure(figsize=(10,8))\n",
    "ax = Axes3D(fig)\n",
    "X = np.arange(0, 10, 0.25)\n",
    "Y = np.arange(0, 10, 0.25)\n",
    "X, Y = np.meshgrid(X, Y)\n",
    "\n",
    "Z = 12*Y*X**(3/2)\n",
    "\n",
    "ax.plot_surface(X, Y, Z, rstride=1, cstride=1, cmap=\"inferno\")\n",
    "ax.contourf(X, Y, Z, zdir='z', offset=-2, cmap=pl.cm.hot)\n",
    "ax.set_zlim(0,2500)\n",
    "\n",
    "pl.show()"
   ]
  },
  {
   "cell_type": "code",
   "execution_count": null,
   "id": "fa7160b3",
   "metadata": {},
   "outputs": [],
   "source": [
    "def f(x):\n",
    "    return 12.0*x[1]*(x[0])**(3.0/2.0)  "
   ]
  },
  {
   "cell_type": "code",
   "execution_count": null,
   "id": "777641e6",
   "metadata": {},
   "outputs": [],
   "source": [
    "x = np.linspace(0, 10, 100)\n",
    "y = np.linspace(0, 10, 100)\n",
    "X, Y = np.meshgrid(x, y)\n",
    "Z = f(np.vstack([X.ravel(), Y.ravel()])).reshape((100,100))\n",
    "plt.figure(figsize=(10,8))\n",
    "plt.contour(X, Y, Z, np.arange(0,2500, 50), cmap='jet');\n",
    "plt.plot(x, 15.0 - x, 'k:', linewidth=3)\n",
    "plt.xlabel('$x$'); plt.ylabel('$y$'); \n",
    "plt.title(\"Proyección en el plano XY\")\n",
    "plt.axis([0.0,10.0,0.0,10.0])"
   ]
  },
  {
   "cell_type": "code",
   "execution_count": null,
   "id": "f2f1e3c3",
   "metadata": {},
   "outputs": [],
   "source": [
    "def f(x):\n",
    "    return -12.0*x[1]*(x[0])**(3.0/2.0) "
   ]
  },
  {
   "cell_type": "code",
   "execution_count": null,
   "id": "3243f6f8",
   "metadata": {},
   "outputs": [],
   "source": [
    "cons = ({'type': 'eq',\n",
    "         'fun' : lambda x: np.array([x[0] + x[1]-15.0])})#,\n",
    "         #'jac' : lambda x: np.array([1.0, 2.0*x[1]])})\n",
    "\n",
    "bnds = ((0, 10.0), (0.0, 10.0))"
   ]
  },
  {
   "cell_type": "code",
   "execution_count": null,
   "id": "61ec0435",
   "metadata": {},
   "outputs": [],
   "source": [
    "x0 = [1.0, 4.0]"
   ]
  },
  {
   "cell_type": "code",
   "execution_count": null,
   "id": "a7df5f9c",
   "metadata": {},
   "outputs": [],
   "source": [
    "cx = opt.minimize(f, x0, bounds=bnds, constraints=cons)\n",
    "cx"
   ]
  },
  {
   "cell_type": "code",
   "execution_count": null,
   "id": "6b72b973",
   "metadata": {},
   "outputs": [],
   "source": []
  }
 ],
 "metadata": {
  "kernelspec": {
   "display_name": "Python 3 (ipykernel)",
   "language": "python",
   "name": "python3"
  },
  "language_info": {
   "codemirror_mode": {
    "name": "ipython",
    "version": 3
   },
   "file_extension": ".py",
   "mimetype": "text/x-python",
   "name": "python",
   "nbconvert_exporter": "python",
   "pygments_lexer": "ipython3",
   "version": "3.7.3"
  }
 },
 "nbformat": 4,
 "nbformat_minor": 5
}
